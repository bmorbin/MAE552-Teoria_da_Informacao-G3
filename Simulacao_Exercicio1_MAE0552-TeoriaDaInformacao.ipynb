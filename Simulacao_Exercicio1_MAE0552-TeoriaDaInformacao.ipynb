{
 "cells": [
  {
   "cell_type": "code",
   "execution_count": 446,
   "id": "8dafb842",
   "metadata": {},
   "outputs": [],
   "source": [
    "import numpy as np\n",
    "import pandas as pd\n",
    "import math\n",
    "import seaborn as sns\n",
    "import matplotlib.pyplot as plt\n",
    "from scipy.stats import chi2\n",
    "\n",
    "np.random.seed(123)"
   ]
  },
  {
   "cell_type": "markdown",
   "id": "1b615beb",
   "metadata": {},
   "source": [
    "| p(X,Y) | X=1       | X=2        | X=3       | X=4 |\n",
    "|-----|---------|----------|---------|---|\n",
    "| Y=1   |   1/8   |   1/16      |   1/32     | 1/32 | \n",
    "| Y=2   |   1/16     |   1/8     |   1/32     | 1/32 |\n",
    "| Y=3   |   1/16     |   1/16      |   1/16     | 1/16 |\n",
    "| Y=4   |   1/4    |   0     |   0    |0 |"
   ]
  },
  {
   "cell_type": "code",
   "execution_count": 447,
   "id": "453f2c2e",
   "metadata": {},
   "outputs": [],
   "source": [
    "joint_prob_xy = [1/8 , 1/16, 1/32, 1/32,\n",
    "                 1/16, 1/8 , 1/32, 1/32,\n",
    "                 1/16, 1/16, 1/16, 1/16,\n",
    "                 1/4 , 0   , 0   , 0   ]\n",
    "\n",
    "marginal_prob_x = [1/2, 1/4, 1/8, 1/8]\n",
    "\n",
    "marginal_prob_y = [1/4, 1/4, 1/4, 1/4]\n",
    "\n",
    "cond_prob_xy_temp =  [d/n for d,n in list(zip(joint_prob_xy,np.repeat(marginal_prob_y,4)))]\n",
    "cond_prob_xy = {(y+1):cond_prob_xy_temp[i:i+4] for y,i in enumerate(range(0, len(cond_prob_xy_temp), 4))}\n",
    "\n",
    "cond_prob_yx_temp =  [d/n for d,n in list(zip(joint_prob_xy,marginal_prob_x*4))]\n",
    "cond_prob_yx = {(i+1):pd.DataFrame(cond_prob_yx_temp).iloc[[i,i+4,i+8,i+12],0].tolist() for i in range(0, 4)}\n",
    "\n",
    "xy_labs = [str(b)+\",\"+str(a) for a in range(1,5) for b in range(1,5)]\n",
    "\n",
    "sample_size = int(1e6)\n",
    "sample_df = pd.DataFrame({\"X,Y\":np.random.choice(a = xy_labs, size = sample_size, replace = True, p = joint_prob_xy).tolist()})\n",
    "\n",
    "sample_df[['X','Y']] = sample_df[\"X,Y\"].str.split(\",\", expand=True)"
   ]
  },
  {
   "cell_type": "code",
   "execution_count": 448,
   "id": "22c486f9",
   "metadata": {},
   "outputs": [],
   "source": [
    "empirical_prop_x = sample_df[\"X\"].value_counts(normalize=True)\n",
    "empirical_prop_y = sample_df[\"Y\"].value_counts(normalize=True)\n",
    "empirical_joint_prop_xy = sample_df[\"X,Y\"].value_counts(normalize=True)\n",
    "\n",
    "empirical_cond_prop_xy = {i:sample_df[sample_df[\"Y\"]==str(i)][\"X\"].value_counts(normalize=True).to_dict() for i in range(1,5)}\n",
    "\n",
    "empirical_cond_prop_yx = {i:sample_df[sample_df[\"X\"]==str(i)][\"Y\"].value_counts(normalize=True).to_dict() for i in range(1,5)}"
   ]
  },
  {
   "cell_type": "code",
   "execution_count": 449,
   "id": "d730866e",
   "metadata": {},
   "outputs": [
    {
     "name": "stdout",
     "output_type": "stream",
     "text": [
      "Empirical H(X) = 1.750624009478404\n",
      "Theorical H(X) = 1.75\n",
      "\n",
      "Empirical H(Y) = 1.9999997930826598\n",
      "Theorical H(Y) = 2.0\n",
      "\n",
      "Empirical H(X,Y) = 3.3752203442909323\n",
      "Theorical H(X,Y) = 3.375\n",
      "\n"
     ]
    }
   ],
   "source": [
    "# Empirical Entropy by sample with 1e6 observations based on original joint distribution given \n",
    "# and Theorical Entropy by given populational distribution\n",
    "\n",
    "# Note: by convention, it is taken 0*log(0) = 0\n",
    "\n",
    "empirical_Hx = -sum([ele*math.log(ele,2) if ele!=0 else 0 for ele in np.array(empirical_prop_x)])\n",
    "theorical_Hx = -sum([ele*math.log(ele,2) if ele!=0 else 0 for ele in np.array(marginal_prob_x)])\n",
    "print(f\"Empirical H(X) = {empirical_Hx}\\nTheorical H(X) = {theorical_Hx}\\n\")\n",
    "\n",
    "empirical_Hy = -sum([ele*math.log(ele,2) if ele!=0 else 0 for ele in np.array(empirical_prop_y)])\n",
    "theorical_Hy = -sum([ele*math.log(ele,2) if ele!=0 else 0 for ele in np.array(marginal_prob_y)])\n",
    "print(f\"Empirical H(Y) = {empirical_Hy}\\nTheorical H(Y) = {theorical_Hy}\\n\")\n",
    "\n",
    "empirical_Hxy = -sum([ele*math.log(ele,2) if ele!=0 else 0 for ele in np.array(empirical_joint_prop_xy)])\n",
    "theorical_Hxy = -sum([ele*math.log(ele,2) if ele!=0 else 0 for ele in np.array(joint_prob_xy)])\n",
    "print(f\"Empirical H(X,Y) = {empirical_Hxy}\\nTheorical H(X,Y) = {theorical_Hxy}\\n\")"
   ]
  },
  {
   "cell_type": "markdown",
   "id": "781e27eb",
   "metadata": {},
   "source": [
    "Tem-se que: $$H(X|Y) = \\sum_{y}p(y)H(X|Y=y)$$"
   ]
  },
  {
   "cell_type": "code",
   "execution_count": 450,
   "id": "91ce563d",
   "metadata": {},
   "outputs": [
    {
     "name": "stdout",
     "output_type": "stream",
     "text": [
      "Empirical H(X|Y) = 1.3751861670492884\n",
      "Theorical H(X|Y) = 1.375\n",
      "\n",
      "Empirical H(Y|X) = 1.6245963348125283\n",
      "Theorical H(Y|X) = 1.625\n",
      "\n"
     ]
    }
   ],
   "source": [
    "empirical_condHxy = sum(np.array([-sum([ele*math.log(ele,2) if ele!=0 else 0 for ele in np.array(list(empirical_cond_prop_xy[i].values()))]) for i in empirical_cond_prop_xy])*empirical_prop_y)\n",
    "theorical_condHxy = sum(np.array([-sum([ele*math.log(ele,2) if ele!=0 else 0 for ele in np.array(cond_prob_xy[i])]) for i in cond_prob_xy])*marginal_prob_y)\n",
    "print(f\"Empirical H(X|Y) = {empirical_condHxy}\\nTheorical H(X|Y) = {theorical_condHxy}\\n\")\n",
    "\n",
    "empirical_condHyx = sum(np.array([-sum([ele*math.log(ele,2) if ele!=0 else 0 for ele in np.array(list(empirical_cond_prop_yx[i].values()))]) for i in empirical_cond_prop_yx])*empirical_prop_x)\n",
    "theorical_condHyx = sum(np.array([-sum([ele*math.log(ele,2) if ele!=0 else 0 for ele in np.array(cond_prob_yx[i])]) for i in cond_prob_yx])*marginal_prob_x)\n",
    "print(f\"Empirical H(Y|X) = {empirical_condHyx}\\nTheorical H(Y|X) = {theorical_condHyx}\\n\")"
   ]
  },
  {
   "cell_type": "markdown",
   "id": "66d24a0e",
   "metadata": {},
   "source": [
    "Verifica-se que de fato respeita a relação: $$H(X,Y) = H(X) + H(Y|X) = H(Y) + H(X|Y)$$"
   ]
  },
  {
   "cell_type": "code",
   "execution_count": 451,
   "id": "e6c7e0b1",
   "metadata": {},
   "outputs": [
    {
     "data": {
      "text/html": [
       "<div>\n",
       "<style scoped>\n",
       "    .dataframe tbody tr th:only-of-type {\n",
       "        vertical-align: middle;\n",
       "    }\n",
       "\n",
       "    .dataframe tbody tr th {\n",
       "        vertical-align: top;\n",
       "    }\n",
       "\n",
       "    .dataframe thead th {\n",
       "        text-align: right;\n",
       "    }\n",
       "</style>\n",
       "<table border=\"1\" class=\"dataframe\">\n",
       "  <thead>\n",
       "    <tr style=\"text-align: right;\">\n",
       "      <th></th>\n",
       "      <th>X,Y</th>\n",
       "      <th>p(x,y)</th>\n",
       "      <th>p(x)*p(y)</th>\n",
       "    </tr>\n",
       "  </thead>\n",
       "  <tbody>\n",
       "    <tr>\n",
       "      <th>0</th>\n",
       "      <td>1,1</td>\n",
       "      <td>0.12500</td>\n",
       "      <td>0.12500</td>\n",
       "    </tr>\n",
       "    <tr>\n",
       "      <th>1</th>\n",
       "      <td>2,1</td>\n",
       "      <td>0.06250</td>\n",
       "      <td>0.06250</td>\n",
       "    </tr>\n",
       "    <tr>\n",
       "      <th>2</th>\n",
       "      <td>3,1</td>\n",
       "      <td>0.03125</td>\n",
       "      <td>0.03125</td>\n",
       "    </tr>\n",
       "    <tr>\n",
       "      <th>3</th>\n",
       "      <td>4,1</td>\n",
       "      <td>0.03125</td>\n",
       "      <td>0.03125</td>\n",
       "    </tr>\n",
       "    <tr>\n",
       "      <th>4</th>\n",
       "      <td>1,2</td>\n",
       "      <td>0.06250</td>\n",
       "      <td>0.12500</td>\n",
       "    </tr>\n",
       "    <tr>\n",
       "      <th>5</th>\n",
       "      <td>2,2</td>\n",
       "      <td>0.12500</td>\n",
       "      <td>0.06250</td>\n",
       "    </tr>\n",
       "    <tr>\n",
       "      <th>6</th>\n",
       "      <td>3,2</td>\n",
       "      <td>0.03125</td>\n",
       "      <td>0.03125</td>\n",
       "    </tr>\n",
       "    <tr>\n",
       "      <th>7</th>\n",
       "      <td>4,2</td>\n",
       "      <td>0.03125</td>\n",
       "      <td>0.03125</td>\n",
       "    </tr>\n",
       "    <tr>\n",
       "      <th>8</th>\n",
       "      <td>1,3</td>\n",
       "      <td>0.06250</td>\n",
       "      <td>0.12500</td>\n",
       "    </tr>\n",
       "    <tr>\n",
       "      <th>9</th>\n",
       "      <td>2,3</td>\n",
       "      <td>0.06250</td>\n",
       "      <td>0.06250</td>\n",
       "    </tr>\n",
       "    <tr>\n",
       "      <th>10</th>\n",
       "      <td>3,3</td>\n",
       "      <td>0.06250</td>\n",
       "      <td>0.03125</td>\n",
       "    </tr>\n",
       "    <tr>\n",
       "      <th>11</th>\n",
       "      <td>4,3</td>\n",
       "      <td>0.06250</td>\n",
       "      <td>0.03125</td>\n",
       "    </tr>\n",
       "    <tr>\n",
       "      <th>12</th>\n",
       "      <td>1,4</td>\n",
       "      <td>0.25000</td>\n",
       "      <td>0.12500</td>\n",
       "    </tr>\n",
       "    <tr>\n",
       "      <th>13</th>\n",
       "      <td>2,4</td>\n",
       "      <td>0.00000</td>\n",
       "      <td>0.06250</td>\n",
       "    </tr>\n",
       "    <tr>\n",
       "      <th>14</th>\n",
       "      <td>3,4</td>\n",
       "      <td>0.00000</td>\n",
       "      <td>0.03125</td>\n",
       "    </tr>\n",
       "    <tr>\n",
       "      <th>15</th>\n",
       "      <td>4,4</td>\n",
       "      <td>0.00000</td>\n",
       "      <td>0.03125</td>\n",
       "    </tr>\n",
       "  </tbody>\n",
       "</table>\n",
       "</div>"
      ],
      "text/plain": [
       "    X,Y   p(x,y)  p(x)*p(y)\n",
       "0   1,1  0.12500    0.12500\n",
       "1   2,1  0.06250    0.06250\n",
       "2   3,1  0.03125    0.03125\n",
       "3   4,1  0.03125    0.03125\n",
       "4   1,2  0.06250    0.12500\n",
       "5   2,2  0.12500    0.06250\n",
       "6   3,2  0.03125    0.03125\n",
       "7   4,2  0.03125    0.03125\n",
       "8   1,3  0.06250    0.12500\n",
       "9   2,3  0.06250    0.06250\n",
       "10  3,3  0.06250    0.03125\n",
       "11  4,3  0.06250    0.03125\n",
       "12  1,4  0.25000    0.12500\n",
       "13  2,4  0.00000    0.06250\n",
       "14  3,4  0.00000    0.03125\n",
       "15  4,4  0.00000    0.03125"
      ]
     },
     "execution_count": 451,
     "metadata": {},
     "output_type": "execute_result"
    }
   ],
   "source": [
    "pop_probs = pd.DataFrame({\"X,Y\":xy_labs,\"p(x,y)\":joint_prob_xy, \"p(x)*p(y)\":np.array(marginal_prob_x*4)*np.array([x for x in marginal_prob_y for i in range(4)])})\n",
    "pop_probs"
   ]
  },
  {
   "cell_type": "markdown",
   "id": "98061912",
   "metadata": {},
   "source": [
    "Pela Informação Mútua: $$I(X,Y) = D(p(x,y)||p(x)p(y)) = \\sum_{x,y}p(x,y)log\\frac{p(x,y)}{p(x)p(y)}$$"
   ]
  },
  {
   "cell_type": "code",
   "execution_count": 452,
   "id": "aa603d01",
   "metadata": {},
   "outputs": [
    {
     "name": "stdout",
     "output_type": "stream",
     "text": [
      "I(X,Y) = 0.375\n"
     ]
    }
   ],
   "source": [
    "mutual_information = sum(pop_probs[\"p(x,y)\"]*np.array([math.log(ele,2) if ele!=0 else 0 for ele in pop_probs[\"p(x,y)\"]/pop_probs[\"p(x)*p(y)\"]]))\n",
    "print(f\"I(X,Y) = {mutual_information}\")"
   ]
  },
  {
   "cell_type": "code",
   "execution_count": 453,
   "id": "fcd12821",
   "metadata": {},
   "outputs": [
    {
     "data": {
      "text/plain": [
       "True"
      ]
     },
     "execution_count": 453,
     "metadata": {},
     "output_type": "execute_result"
    }
   ],
   "source": [
    "# Notice that exists the follow equivalence: I(X,Y) = H(X) - H(X|Y) = H(Y) - H(Y|X)\n",
    "mutual_information == theorical_Hx - theorical_condHxy == theorical_Hy - theorical_condHyx"
   ]
  },
  {
   "cell_type": "markdown",
   "id": "31cf3cac",
   "metadata": {},
   "source": [
    "Procede-se então com a geração de K amostras de tamanho N=224 (total observado estipulado), porém com probabilidades conjuntas baseadas no cenário de independência ($H_0$), ou seja, $p(x,y) = p(x)p(y)$, resultando em K Informações Mútuas estimadas calculadas para cada uma das amostras."
   ]
  },
  {
   "cell_type": "code",
   "execution_count": 454,
   "id": "3680a7fb",
   "metadata": {},
   "outputs": [],
   "source": [
    "K = int(1e4)\n",
    "N = sum([int(i*128) if i!=0 else 32 for i in joint_prob_xy])\n",
    "\n",
    "joint_prob_independence = pop_probs[\"p(x)*p(y)\"]\n",
    "\n",
    "obs_mutual_information_list = list()\n",
    "\n",
    "for i in range(K):\n",
    "    sample_temp = pd.DataFrame({\"X,Y\": np.random.choice(a = xy_labs, size = N, replace = True, p = joint_prob_independence).tolist()})[\"X,Y\"].value_counts()\n",
    "    sample_temp = pd.DataFrame({'X,Y': sample_temp.index, 'count': sample_temp.values})\n",
    "    sample_temp[['X','Y']] = sample_temp[\"X,Y\"].str.split(\",\", expand=True)\n",
    "    sample_temp['p(x,y)'] = sample_temp['count']/N\n",
    "\n",
    "    obs_props_x_temp = {str(i):sum(sample_temp[sample_temp['X']==str(i)]['count'])/N for i in range(1,5)}\n",
    "    obs_props_y_temp = {str(i):sum(sample_temp[sample_temp['Y']==str(i)]['count'])/N for i in range(1,5)}\n",
    "\n",
    "    sample_temp['p(x)*p(y)'] = [obs_props_x_temp[x]*obs_props_y_temp[y] for x,y in zip(sample_temp['X'],sample_temp['Y'])]\n",
    "\n",
    "    obs_mutual_information_temp = sum(sample_temp[\"p(x,y)\"]*np.array([math.log(ele,2) if ele!=0 else 0 for ele in sample_temp[\"p(x,y)\"]/sample_temp[\"p(x)*p(y)\"]]))\n",
    "    obs_mutual_information_list.append(obs_mutual_information_temp)"
   ]
  },
  {
   "cell_type": "code",
   "execution_count": 455,
   "id": "3784fd5d",
   "metadata": {},
   "outputs": [
    {
     "data": {
      "image/png": "[encoded data removed]",
      "text/plain": [
       "<Figure size 432x288 with 1 Axes>"
      ]
     },
     "metadata": {
      "needs_background": "light"
     },
     "output_type": "display_data"
    }
   ],
   "source": [
    "sns.histplot(obs_mutual_information_list, kde = True, stat= 'probability')\n",
    "plt.xlabel(\"Mutual Information\")\n",
    "plt.ylabel(\"Frequency\")\n",
    "plt.title(\"Mutual Information Distribution \")\n",
    "plt.suptitle(f\"K={K} samples with N={N} observations each one\", fontsize=8)\n",
    "plt.show()"
   ]
  },
  {
   "cell_type": "markdown",
   "id": "3861ea76",
   "metadata": {},
   "source": [
    "Tem-se acima o gráfico da distribuição dos valores calculados da Informação Mútua das K amostras sendo cada uma com N=224 observações sob o cenário de $H_0$, ou seja, com independência entre X e Y. Portanto, pode-se calcular a Informação Mútua do cenário específico a seguir e identificar qual p-valor apresenta. Se p-valor muito baixo, então tem-se uma amostra rara (considerando $H_0$) e então rejeita-se hipótese de independência."
   ]
  },
  {
   "cell_type": "code",
   "execution_count": 456,
   "id": "090978da",
   "metadata": {},
   "outputs": [
    {
     "data": {
      "text/html": [
       "<div>\n",
       "<style scoped>\n",
       "    .dataframe tbody tr th:only-of-type {\n",
       "        vertical-align: middle;\n",
       "    }\n",
       "\n",
       "    .dataframe tbody tr th {\n",
       "        vertical-align: top;\n",
       "    }\n",
       "\n",
       "    .dataframe thead th {\n",
       "        text-align: right;\n",
       "    }\n",
       "</style>\n",
       "<table border=\"1\" class=\"dataframe\">\n",
       "  <thead>\n",
       "    <tr style=\"text-align: right;\">\n",
       "      <th></th>\n",
       "      <th>X</th>\n",
       "      <th>Y</th>\n",
       "      <th>X,Y</th>\n",
       "      <th>count</th>\n",
       "      <th>p(x,y)</th>\n",
       "      <th>p(x)*p(y)</th>\n",
       "    </tr>\n",
       "  </thead>\n",
       "  <tbody>\n",
       "    <tr>\n",
       "      <th>0</th>\n",
       "      <td>1</td>\n",
       "      <td>1</td>\n",
       "      <td>1,1</td>\n",
       "      <td>16</td>\n",
       "      <td>0.071429</td>\n",
       "      <td>0.040816</td>\n",
       "    </tr>\n",
       "    <tr>\n",
       "      <th>1</th>\n",
       "      <td>2</td>\n",
       "      <td>1</td>\n",
       "      <td>2,1</td>\n",
       "      <td>8</td>\n",
       "      <td>0.035714</td>\n",
       "      <td>0.040816</td>\n",
       "    </tr>\n",
       "    <tr>\n",
       "      <th>2</th>\n",
       "      <td>3</td>\n",
       "      <td>1</td>\n",
       "      <td>3,1</td>\n",
       "      <td>4</td>\n",
       "      <td>0.017857</td>\n",
       "      <td>0.030612</td>\n",
       "    </tr>\n",
       "    <tr>\n",
       "      <th>3</th>\n",
       "      <td>4</td>\n",
       "      <td>1</td>\n",
       "      <td>4,1</td>\n",
       "      <td>4</td>\n",
       "      <td>0.017857</td>\n",
       "      <td>0.030612</td>\n",
       "    </tr>\n",
       "    <tr>\n",
       "      <th>4</th>\n",
       "      <td>1</td>\n",
       "      <td>2</td>\n",
       "      <td>1,2</td>\n",
       "      <td>8</td>\n",
       "      <td>0.035714</td>\n",
       "      <td>0.040816</td>\n",
       "    </tr>\n",
       "    <tr>\n",
       "      <th>5</th>\n",
       "      <td>2</td>\n",
       "      <td>2</td>\n",
       "      <td>2,2</td>\n",
       "      <td>16</td>\n",
       "      <td>0.071429</td>\n",
       "      <td>0.040816</td>\n",
       "    </tr>\n",
       "    <tr>\n",
       "      <th>6</th>\n",
       "      <td>3</td>\n",
       "      <td>2</td>\n",
       "      <td>3,2</td>\n",
       "      <td>4</td>\n",
       "      <td>0.017857</td>\n",
       "      <td>0.030612</td>\n",
       "    </tr>\n",
       "    <tr>\n",
       "      <th>7</th>\n",
       "      <td>4</td>\n",
       "      <td>2</td>\n",
       "      <td>4,2</td>\n",
       "      <td>4</td>\n",
       "      <td>0.017857</td>\n",
       "      <td>0.030612</td>\n",
       "    </tr>\n",
       "    <tr>\n",
       "      <th>8</th>\n",
       "      <td>1</td>\n",
       "      <td>3</td>\n",
       "      <td>1,3</td>\n",
       "      <td>8</td>\n",
       "      <td>0.035714</td>\n",
       "      <td>0.040816</td>\n",
       "    </tr>\n",
       "    <tr>\n",
       "      <th>9</th>\n",
       "      <td>2</td>\n",
       "      <td>3</td>\n",
       "      <td>2,3</td>\n",
       "      <td>8</td>\n",
       "      <td>0.035714</td>\n",
       "      <td>0.040816</td>\n",
       "    </tr>\n",
       "    <tr>\n",
       "      <th>10</th>\n",
       "      <td>3</td>\n",
       "      <td>3</td>\n",
       "      <td>3,3</td>\n",
       "      <td>8</td>\n",
       "      <td>0.035714</td>\n",
       "      <td>0.030612</td>\n",
       "    </tr>\n",
       "    <tr>\n",
       "      <th>11</th>\n",
       "      <td>4</td>\n",
       "      <td>3</td>\n",
       "      <td>4,3</td>\n",
       "      <td>8</td>\n",
       "      <td>0.035714</td>\n",
       "      <td>0.030612</td>\n",
       "    </tr>\n",
       "    <tr>\n",
       "      <th>12</th>\n",
       "      <td>1</td>\n",
       "      <td>4</td>\n",
       "      <td>1,4</td>\n",
       "      <td>32</td>\n",
       "      <td>0.142857</td>\n",
       "      <td>0.163265</td>\n",
       "    </tr>\n",
       "    <tr>\n",
       "      <th>13</th>\n",
       "      <td>2</td>\n",
       "      <td>4</td>\n",
       "      <td>2,4</td>\n",
       "      <td>32</td>\n",
       "      <td>0.142857</td>\n",
       "      <td>0.163265</td>\n",
       "    </tr>\n",
       "    <tr>\n",
       "      <th>14</th>\n",
       "      <td>3</td>\n",
       "      <td>4</td>\n",
       "      <td>3,4</td>\n",
       "      <td>32</td>\n",
       "      <td>0.142857</td>\n",
       "      <td>0.122449</td>\n",
       "    </tr>\n",
       "    <tr>\n",
       "      <th>15</th>\n",
       "      <td>4</td>\n",
       "      <td>4</td>\n",
       "      <td>4,4</td>\n",
       "      <td>32</td>\n",
       "      <td>0.142857</td>\n",
       "      <td>0.122449</td>\n",
       "    </tr>\n",
       "  </tbody>\n",
       "</table>\n",
       "</div>"
      ],
      "text/plain": [
       "    X  Y  X,Y  count    p(x,y)  p(x)*p(y)\n",
       "0   1  1  1,1     16  0.071429   0.040816\n",
       "1   2  1  2,1      8  0.035714   0.040816\n",
       "2   3  1  3,1      4  0.017857   0.030612\n",
       "3   4  1  4,1      4  0.017857   0.030612\n",
       "4   1  2  1,2      8  0.035714   0.040816\n",
       "5   2  2  2,2     16  0.071429   0.040816\n",
       "6   3  2  3,2      4  0.017857   0.030612\n",
       "7   4  2  4,2      4  0.017857   0.030612\n",
       "8   1  3  1,3      8  0.035714   0.040816\n",
       "9   2  3  2,3      8  0.035714   0.040816\n",
       "10  3  3  3,3      8  0.035714   0.030612\n",
       "11  4  3  4,3      8  0.035714   0.030612\n",
       "12  1  4  1,4     32  0.142857   0.163265\n",
       "13  2  4  2,4     32  0.142857   0.163265\n",
       "14  3  4  3,4     32  0.142857   0.122449\n",
       "15  4  4  4,4     32  0.142857   0.122449"
      ]
     },
     "execution_count": 456,
     "metadata": {},
     "output_type": "execute_result"
    }
   ],
   "source": [
    "sample = pd.DataFrame({\"X,Y\":pop_probs[\"X,Y\"],\"count\":[int(i*128) if i!=0 else 32 for i in joint_prob_xy]})\n",
    "sample[['X','Y']] = sample[\"X,Y\"].str.split(\",\", expand=True)\n",
    "sample['p(x,y)'] = sample['count']/N\n",
    "\n",
    "obs_props_x = {str(i):sum(sample[sample['X']==str(i)]['count'])/N for i in range(1,5)}\n",
    "obs_props_y = {str(i):sum(sample[sample['Y']==str(i)]['count'])/N for i in range(1,5)}\n",
    "\n",
    "sample['p(x)*p(y)'] = [obs_props_x[x]*obs_props_y[y] for x,y in zip(sample['X'],sample['Y'])]\n",
    "\n",
    "# Show the sample and respective proportions observed \n",
    "sample[['X','Y','X,Y','count','p(x,y)','p(x)*p(y)']]"
   ]
  },
  {
   "cell_type": "markdown",
   "id": "e6a17b05",
   "metadata": {},
   "source": [
    "Tem-se a seguinte tabela de contingência para análise da independência de X e Y:\n",
    "\n",
    "| #(X,Y) | X=1       | X=2        | X=3       | X=4 |\n",
    "|-----|---------|----------|---------|---|\n",
    "| Y=1   |   16    |   8      |   4     | 4 | \n",
    "| Y=2   |   8     |   16     |   4     | 4 |\n",
    "| Y=3   |   8     |   8      |   8     | 8 |\n",
    "| Y=4   |   32    |   32     |   32    |32 |\n",
    "\n",
    "Nota-se intuitivamente que deve existir independência, pois a distribuição de X para os valores de Y=1 ou Y=2 apresenta-se diferente em relação a Y=3 ou Y=4 pelos valores observados."
   ]
  },
  {
   "cell_type": "code",
   "execution_count": 457,
   "id": "e902960d",
   "metadata": {},
   "outputs": [
    {
     "name": "stdout",
     "output_type": "stream",
     "text": [
      "I(X,Y) observed: 0.05665670746282293\n",
      "\n",
      "90th percentile for I(X,Y) distribution: 0.04881926866321133\n"
     ]
    }
   ],
   "source": [
    "obs_mutual_information = sum(sample[\"p(x,y)\"]*np.array([math.log(ele,2) if ele!=0 else 0 for ele in sample[\"p(x,y)\"]/sample[\"p(x)*p(y)\"]]))\n",
    "# Mutual information observed in the sample\n",
    "print(f\"I(X,Y) observed: {obs_mutual_information}\\n\")\n",
    "\n",
    "percentile = 90\n",
    "percentile_mutual_information = np.percentile(obs_mutual_information_list, percentile)\n",
    "print(f\"90th percentile for I(X,Y) distribution: {percentile_mutual_information}\")"
   ]
  },
  {
   "cell_type": "code",
   "execution_count": 458,
   "id": "c80946dc",
   "metadata": {},
   "outputs": [
    {
     "data": {
      "image/png": "[encoded data removed]",
      "text/plain": [
       "<Figure size 432x288 with 1 Axes>"
      ]
     },
     "metadata": {
      "needs_background": "light"
     },
     "output_type": "display_data"
    }
   ],
   "source": [
    "sns.histplot(obs_mutual_information_list, kde = True, stat= 'probability')\n",
    "plt.xlabel(\"Mutual Information\")\n",
    "plt.ylabel(\"Frequency\")\n",
    "plt.title(\"Mutual Information Distribution \")\n",
    "plt.suptitle(f\"K={K} samples with N={N} observations each one\", fontsize=8)\n",
    "\n",
    "# Adding the mutual information observed (red) and percentile determined (gray)\n",
    "plt.axvline(x=obs_mutual_information, color='red', linestyle='solid')\n",
    "plt.axvline(x=percentile_mutual_information, color='grey', linestyle='dashed', label=f\"{percentile}th percentile\")\n",
    "\n",
    "plt.axvspan(xmin=percentile_mutual_information, xmax=np.array(obs_mutual_information_list).max(), color='lightgrey', alpha=0.5)\n",
    "\n",
    "plt.xlim(np.array(obs_mutual_information_list).min(),np.array(obs_mutual_information_list).max())\n",
    "\n",
    "ymax = plt.gca().get_ylim()[1]\n",
    "plt.annotate('Observed', xy=(obs_mutual_information, ymax/2), xytext=(obs_mutual_information, ymax/2+ymax/15), arrowprops=dict(arrowstyle='->', connectionstyle='arc3,rad=-0.5', color='red'), textcoords='data', color='red', fontsize=8, ha=\"left\")\n",
    "\n",
    "plt.legend()\n",
    "\n",
    "plt.show()"
   ]
  },
  {
   "cell_type": "markdown",
   "id": "a000cd31",
   "metadata": {},
   "source": [
    "Nota-se portanto que com valor da Informação Mútua da amostra especificada acima do percentil mostrado, infere-se que há indícios para rejeitar hipótese de independência entre as variáveis. Observa-se também que a distribuição é assimétrica à direita, podendo considerar $\\text{p-valor} > 1-\\text{percentil calculado}$. "
   ]
  },
  {
   "cell_type": "code",
   "execution_count": 459,
   "id": "b5a64a83",
   "metadata": {},
   "outputs": [
    {
     "name": "stdout",
     "output_type": "stream",
     "text": [
      "p-value: 2.63% <= 5.0%\n",
      "---> Reject null hypothesis: X and Y aren't independent with 5.0% of significance\n"
     ]
    }
   ],
   "source": [
    "p_value = np.quantile(obs_mutual_information_list, (obs_mutual_information - min(obs_mutual_information_list))/(max(obs_mutual_information_list)-min(obs_mutual_information_list)))\n",
    "print(f\"p-value: {round(p_value*100,2)}%\",end=\"\")\n",
    "alpha=0.05\n",
    "if p_value<=alpha: print(f\" <= {alpha*100}%\\n---> Reject null hypothesis: X and Y aren't independent with {alpha*100}% of significance\")\n",
    "else: print(f' > {alpha*100}%\\n---> NONE evidences to reject null hypothesis: X and Y are independent considering {alpha*100}% of significance')"
   ]
  },
  {
   "cell_type": "markdown",
   "id": "2df26eee",
   "metadata": {},
   "source": [
    "Realiza-se a seguir um teste de independência clássico com a tabela de contigência especificada anteriormente. Para isso, nota-se que a tabela é composta por $r = 4$ linhas e $s = 4$ colunas implicando em um teste sob uma Qui-Quadrado $\\chi^2(\\nu)$ em $H_0$ (independência entre X e Y), onde $\\nu = (r-1)(s-1)$ graus de liberdade, portanto, $9 g.l.$"
   ]
  },
  {
   "cell_type": "code",
   "execution_count": 460,
   "id": "15f4f3ac",
   "metadata": {},
   "outputs": [
    {
     "name": "stdout",
     "output_type": "stream",
     "text": [
      "The value of chi-square statistic of the test observed was: 18.666666666666664\n"
     ]
    }
   ],
   "source": [
    "# Expected count assuming independence between X and Y\n",
    "sample['count_expected'] = N*sample['p(x)*p(y)']\n",
    "\n",
    "# To get statistic of the test, sum the elements for each entry by (count_observed - count_expected)^2/count_expected\n",
    "test_statistic = sum((sample['count'] - sample['count_expected'])**2/sample['count_expected'])\n",
    "print(f\"The value of chi-square statistic of the test observed was: {test_statistic}\")"
   ]
  },
  {
   "cell_type": "code",
   "execution_count": 464,
   "id": "f9a214b8",
   "metadata": {},
   "outputs": [
    {
     "data": {
      "image/png": "[encoded data removed]",
      "text/plain": [
       "<Figure size 432x288 with 1 Axes>"
      ]
     },
     "metadata": {
      "needs_background": "light"
     },
     "output_type": "display_data"
    }
   ],
   "source": [
    "# Plot density of Chi-Square distribution with 9 degrees of freedom\n",
    "degrees_freedom = 9\n",
    "x = np.linspace(chi2.ppf(0.01, degrees_freedom), chi2.ppf(0.99, degrees_freedom), 100)\n",
    "chi2_dist = chi2(degrees_freedom)\n",
    "plt.plot(x, chi2_dist.pdf(x), '-', lw=3, alpha=0.6, color=\"grey\")\n",
    "plt.xlabel('x')\n",
    "plt.ylabel('Probability density')\n",
    "plt.title('Chi-square distribution with 9 degrees of freedom')\n",
    "\n",
    "plt.fill_between(x, 0, chi2_dist.pdf(x), where=(x >= chi2.ppf(percentile/100, 9)), alpha=0.5, color=\"red\", label=f\"Critical Region with $\\\\alpha={round(1-percentile/100,2)}$\")\n",
    "plt.fill_between(x, 0, chi2_dist.pdf(x), where=(x < chi2.ppf(percentile/100, 9)), alpha=0.05, color=\"grey\")\n",
    "\n",
    "plt.axvline(test_statistic, color=\"black\",linestyle='dashed')\n",
    "ymax = plt.gca().get_ylim()[1]\n",
    "plt.annotate('Observed', xy=(test_statistic, ymax/2), xytext=(test_statistic, ymax/2+ymax/15), arrowprops=dict(arrowstyle='->', connectionstyle='arc3,rad=0.5', color='black'), textcoords='data', color='black', fontsize=8, ha=\"right\")\n",
    "\n",
    "plt.legend()\n",
    "\n",
    "plt.xlim(min(x), max(x))\n",
    "plt.ylim(0)\n",
    "\n",
    "plt.show()"
   ]
  },
  {
   "cell_type": "code",
   "execution_count": 462,
   "id": "93169aa9",
   "metadata": {},
   "outputs": [
    {
     "name": "stdout",
     "output_type": "stream",
     "text": [
      "p-value: 2.82% <= 5.0%\n",
      "---> Reject null hypothesis: X and Y aren't independent with 5.0% of significance\n"
     ]
    }
   ],
   "source": [
    "# For the classic independence test\n",
    "p_value_classic = 1 - chi2.cdf(test_statistic, 9)\n",
    "print(f\"p-value: {round(p_value_classic*100,2)}%\",end=\"\")\n",
    "if p_value_classic<=alpha: print(f\" <= {alpha*100}%\\n---> Reject null hypothesis: X and Y aren't independent with {alpha*100}% of significance\")\n",
    "else: print(f' > {alpha*100}%\\n---> NONE evidences to reject null hypothesis: X and Y are independent considering {alpha*100}% of significance')"
   ]
  },
  {
   "cell_type": "markdown",
   "id": "0628419e",
   "metadata": {},
   "source": [
    "Portanto, infere-se também pelo teste clássico de independência que não rejeita-se hipótese nula de variáveis não dependentes com nível de significância de 5%, conforme esperado."
   ]
  }
 ],
 "metadata": {
  "kernelspec": {
   "display_name": "Python 3 (ipykernel)",
   "language": "python",
   "name": "python3"
  },
  "language_info": {
   "codemirror_mode": {
    "name": "ipython",
    "version": 3
   },
   "file_extension": ".py",
   "mimetype": "text/x-python",
   "name": "python",
   "nbconvert_exporter": "python",
   "pygments_lexer": "ipython3",
   "version": "3.9.7"
  }
 },
 "nbformat": 4,
 "nbformat_minor": 5
}
