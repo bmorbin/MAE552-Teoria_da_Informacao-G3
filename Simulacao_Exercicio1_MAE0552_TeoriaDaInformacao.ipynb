{
  "cells": [
    {
      "cell_type": "markdown",
      "source": [
        "Ana Luisa Pinheiro - 11810407 \\\\\n",
        "Ayrton Amaral - 11288131 \\\\\n",
        "Bruno Groper Morbin - 11809875 \\\\\n",
        "Caio Febronio - 11811482\n"
      ],
      "metadata": {
        "id": "ktjNQhQW66GR"
      },
      "id": "ktjNQhQW66GR"
    },
    {
      "cell_type": "code",
      "execution_count": null,
      "id": "f2037af2",
      "metadata": {
        "id": "f2037af2"
      },
      "outputs": [],
      "source": [
        "import numpy as np\n",
        "import pandas as pd\n",
        "import math\n",
        "import seaborn as sns\n",
        "import matplotlib.pyplot as plt\n",
        "from scipy.stats import chi2\n",
        "\n",
        "np.random.seed(123)"
      ]
    },
    {
      "cell_type": "markdown",
      "id": "d7eb6e17",
      "metadata": {
        "id": "d7eb6e17"
      },
      "source": [
        "| p(X,Y) | X=1       | X=2        | X=3       | X=4 |\n",
        "|-----|---------|----------|---------|---|\n",
        "| Y=1   |   1/8   |   1/16      |   1/32     | 1/32 | \n",
        "| Y=2   |   1/16     |   1/8     |   1/32     | 1/32 |\n",
        "| Y=3   |   1/16     |   1/16      |   1/16     | 1/16 |\n",
        "| Y=4   |   1/4    |   0     |   0    |0 |"
      ]
    },
    {
      "cell_type": "code",
      "execution_count": null,
      "id": "15941fa0",
      "metadata": {
        "id": "15941fa0"
      },
      "outputs": [],
      "source": [
        "joint_prob_xy = [1/8 , 1/16, 1/32, 1/32,\n",
        "                 1/16, 1/8 , 1/32, 1/32,\n",
        "                 1/16, 1/16, 1/16, 1/16,\n",
        "                 1/4 , 0   , 0   , 0   ]\n",
        "\n",
        "marginal_prob_x = [1/2, 1/4, 1/8, 1/8]\n",
        "\n",
        "marginal_prob_y = [1/4, 1/4, 1/4, 1/4]\n",
        "\n",
        "cond_prob_xy_temp =  [d/n for d,n in list(zip(joint_prob_xy,np.repeat(marginal_prob_y,4)))]\n",
        "cond_prob_xy = {(y+1):cond_prob_xy_temp[i:i+4] for y,i in enumerate(range(0, len(cond_prob_xy_temp), 4))}\n",
        "\n",
        "cond_prob_yx_temp =  [d/n for d,n in list(zip(joint_prob_xy,marginal_prob_x*4))]\n",
        "cond_prob_yx = {(i+1):pd.DataFrame(cond_prob_yx_temp).iloc[[i,i+4,i+8,i+12],0].tolist() for i in range(0, 4)}\n",
        "\n",
        "xy_labs = [str(b)+\",\"+str(a) for a in range(1,5) for b in range(1,5)]\n",
        "\n",
        "sample_size = int(1e6)\n",
        "sample_df = pd.DataFrame({\"X,Y\":np.random.choice(a = xy_labs, size = sample_size, replace = True, p = joint_prob_xy).tolist()})\n",
        "\n",
        "sample_df[['X','Y']] = sample_df[\"X,Y\"].str.split(\",\", expand=True)"
      ]
    },
    {
      "cell_type": "code",
      "execution_count": null,
      "id": "67b0b20c",
      "metadata": {
        "id": "67b0b20c"
      },
      "outputs": [],
      "source": [
        "empirical_prop_x = sample_df[\"X\"].value_counts(normalize=True)\n",
        "empirical_prop_y = sample_df[\"Y\"].value_counts(normalize=True)\n",
        "empirical_joint_prop_xy = sample_df[\"X,Y\"].value_counts(normalize=True)\n",
        "\n",
        "empirical_cond_prop_xy = {i:sample_df[sample_df[\"Y\"]==str(i)][\"X\"].value_counts(normalize=True).to_dict() for i in range(1,5)}\n",
        "\n",
        "empirical_cond_prop_yx = {i:sample_df[sample_df[\"X\"]==str(i)][\"Y\"].value_counts(normalize=True).to_dict() for i in range(1,5)}"
      ]
    },
    {
      "cell_type": "code",
      "execution_count": null,
      "id": "888f7f06",
      "metadata": {
        "id": "888f7f06",
        "outputId": "f77d5105-c2bf-4682-da46-a289ffe8d113",
        "colab": {
          "base_uri": "https://localhost:8080/"
        }
      },
      "outputs": [
        {
          "output_type": "stream",
          "name": "stdout",
          "text": [
            "Empirical H(X) = 1.750624009478404\n",
            "Theorical H(X) = 1.75\n",
            "\n",
            "Empirical H(Y) = 1.9999997930826598\n",
            "Theorical H(Y) = 2.0\n",
            "\n",
            "Empirical H(X,Y) = 3.3752203442909323\n",
            "Theorical H(X,Y) = 3.375\n",
            "\n"
          ]
        }
      ],
      "source": [
        "# Empirical Entropy by sample with 1e6 observations based on original joint distribution given \n",
        "# and Theorical Entropy by given populational distribution\n",
        "\n",
        "# Note: by convention, it is taken 0*log(0) = 0\n",
        "\n",
        "empirical_Hx = -sum([ele*math.log(ele,2) if ele!=0 else 0 for ele in np.array(empirical_prop_x)])\n",
        "theorical_Hx = -sum([ele*math.log(ele,2) if ele!=0 else 0 for ele in np.array(marginal_prob_x)])\n",
        "print(f\"Empirical H(X) = {empirical_Hx}\\nTheorical H(X) = {theorical_Hx}\\n\")\n",
        "\n",
        "empirical_Hy = -sum([ele*math.log(ele,2) if ele!=0 else 0 for ele in np.array(empirical_prop_y)])\n",
        "theorical_Hy = -sum([ele*math.log(ele,2) if ele!=0 else 0 for ele in np.array(marginal_prob_y)])\n",
        "print(f\"Empirical H(Y) = {empirical_Hy}\\nTheorical H(Y) = {theorical_Hy}\\n\")\n",
        "\n",
        "empirical_Hxy = -sum([ele*math.log(ele,2) if ele!=0 else 0 for ele in np.array(empirical_joint_prop_xy)])\n",
        "theorical_Hxy = -sum([ele*math.log(ele,2) if ele!=0 else 0 for ele in np.array(joint_prob_xy)])\n",
        "print(f\"Empirical H(X,Y) = {empirical_Hxy}\\nTheorical H(X,Y) = {theorical_Hxy}\\n\")"
      ]
    },
    {
      "cell_type": "markdown",
      "id": "e51e0506",
      "metadata": {
        "id": "e51e0506"
      },
      "source": [
        "Tem-se que: $$H(X|Y) = \\sum_{y}p(y)H(X|Y=y)$$"
      ]
    },
    {
      "cell_type": "code",
      "execution_count": null,
      "id": "6da53ee3",
      "metadata": {
        "id": "6da53ee3",
        "outputId": "1129606f-a6a4-4617-bb5a-38e2b2581ae5",
        "colab": {
          "base_uri": "https://localhost:8080/"
        }
      },
      "outputs": [
        {
          "output_type": "stream",
          "name": "stdout",
          "text": [
            "Empirical H(X|Y) = 1.3751861670492884\n",
            "Theorical H(X|Y) = 1.375\n",
            "\n",
            "Empirical H(Y|X) = 1.6245963348125283\n",
            "Theorical H(Y|X) = 1.625\n",
            "\n"
          ]
        }
      ],
      "source": [
        "empirical_condHxy = sum(np.array([-sum([ele*math.log(ele,2) if ele!=0 else 0 for ele in np.array(list(empirical_cond_prop_xy[i].values()))]) for i in empirical_cond_prop_xy])*empirical_prop_y)\n",
        "theorical_condHxy = sum(np.array([-sum([ele*math.log(ele,2) if ele!=0 else 0 for ele in np.array(cond_prob_xy[i])]) for i in cond_prob_xy])*marginal_prob_y)\n",
        "print(f\"Empirical H(X|Y) = {empirical_condHxy}\\nTheorical H(X|Y) = {theorical_condHxy}\\n\")\n",
        "\n",
        "empirical_condHyx = sum(np.array([-sum([ele*math.log(ele,2) if ele!=0 else 0 for ele in np.array(list(empirical_cond_prop_yx[i].values()))]) for i in empirical_cond_prop_yx])*empirical_prop_x)\n",
        "theorical_condHyx = sum(np.array([-sum([ele*math.log(ele,2) if ele!=0 else 0 for ele in np.array(cond_prob_yx[i])]) for i in cond_prob_yx])*marginal_prob_x)\n",
        "print(f\"Empirical H(Y|X) = {empirical_condHyx}\\nTheorical H(Y|X) = {theorical_condHyx}\\n\")"
      ]
    },
    {
      "cell_type": "markdown",
      "id": "8bf80338",
      "metadata": {
        "id": "8bf80338"
      },
      "source": [
        "Verifica-se que de fato respeita a relação: $$H(X,Y) = H(X) + H(Y|X) = H(Y) + H(X|Y)$$"
      ]
    },
    {
      "cell_type": "code",
      "source": [
        "tabela14 = [(214,157),(237,269),(78,143),(119,79),\n",
        "            (51,73),(102,124),(126,67),(22,37),\n",
        "            (111,146),(304,250),(139,133),(48,73)]\n",
        "\n",
        "lamb = 0.3\n",
        "tabela14_lambda = [math.floor(o*lamb + e*(1-lamb)) for o,e in tabela14]\n",
        "\n",
        "tab = tabela14_lambda\n",
        "total_x = [tab[i]+tab[i+4]+tab[i+8] for i in range(4)]\n",
        "total_y = [tab[i]+tab[i+1]+tab[i+2]+tab[i+3] for i in range(0,9,4)]\n",
        "\n",
        "total = sum(total_x)\n",
        "\n",
        "marginal_x = np.array(total_x)/total\n",
        "marginal_y = np.array(total_y)/total\n",
        "\n",
        "xy_labs = [str(b)+\",\"+str(a) for a in range(1,4) for b in range(1,5)]\n"
      ],
      "metadata": {
        "id": "hB70LO5j0vZz"
      },
      "id": "hB70LO5j0vZz",
      "execution_count": null,
      "outputs": []
    },
    {
      "cell_type": "code",
      "execution_count": null,
      "id": "6b1f5092",
      "metadata": {
        "id": "6b1f5092",
        "outputId": "c4b9118f-1c33-40df-f02e-a35f871b8be3",
        "colab": {
          "base_uri": "https://localhost:8080/",
          "height": 426
        }
      },
      "outputs": [
        {
          "output_type": "execute_result",
          "data": {
            "text/plain": [
              "    X,Y    p(x,y)  p(x)*p(y)\n",
              "0   1,1  0.112549   0.101512\n",
              "1   2,1  0.167529   0.173788\n",
              "2   3,1  0.079560   0.092308\n",
              "3   4,1  0.058862   0.050891\n",
              "4   1,2  0.042691   0.046912\n",
              "5   2,2  0.075679   0.080313\n",
              "6   3,2  0.054334   0.042659\n",
              "7   4,2  0.020699   0.023519\n",
              "8   1,3  0.087322   0.094138\n",
              "9   2,3  0.172057   0.161164\n",
              "10  3,3  0.086675   0.085603\n",
              "11  4,3  0.042044   0.047194"
            ],
            "text/html": [
              "\n",
              "  <div id=\"df-487cf207-6b00-49ad-8130-c620e2ea266e\">\n",
              "    <div class=\"colab-df-container\">\n",
              "      <div>\n",
              "<style scoped>\n",
              "    .dataframe tbody tr th:only-of-type {\n",
              "        vertical-align: middle;\n",
              "    }\n",
              "\n",
              "    .dataframe tbody tr th {\n",
              "        vertical-align: top;\n",
              "    }\n",
              "\n",
              "    .dataframe thead th {\n",
              "        text-align: right;\n",
              "    }\n",
              "</style>\n",
              "<table border=\"1\" class=\"dataframe\">\n",
              "  <thead>\n",
              "    <tr style=\"text-align: right;\">\n",
              "      <th></th>\n",
              "      <th>X,Y</th>\n",
              "      <th>p(x,y)</th>\n",
              "      <th>p(x)*p(y)</th>\n",
              "    </tr>\n",
              "  </thead>\n",
              "  <tbody>\n",
              "    <tr>\n",
              "      <th>0</th>\n",
              "      <td>1,1</td>\n",
              "      <td>0.112549</td>\n",
              "      <td>0.101512</td>\n",
              "    </tr>\n",
              "    <tr>\n",
              "      <th>1</th>\n",
              "      <td>2,1</td>\n",
              "      <td>0.167529</td>\n",
              "      <td>0.173788</td>\n",
              "    </tr>\n",
              "    <tr>\n",
              "      <th>2</th>\n",
              "      <td>3,1</td>\n",
              "      <td>0.079560</td>\n",
              "      <td>0.092308</td>\n",
              "    </tr>\n",
              "    <tr>\n",
              "      <th>3</th>\n",
              "      <td>4,1</td>\n",
              "      <td>0.058862</td>\n",
              "      <td>0.050891</td>\n",
              "    </tr>\n",
              "    <tr>\n",
              "      <th>4</th>\n",
              "      <td>1,2</td>\n",
              "      <td>0.042691</td>\n",
              "      <td>0.046912</td>\n",
              "    </tr>\n",
              "    <tr>\n",
              "      <th>5</th>\n",
              "      <td>2,2</td>\n",
              "      <td>0.075679</td>\n",
              "      <td>0.080313</td>\n",
              "    </tr>\n",
              "    <tr>\n",
              "      <th>6</th>\n",
              "      <td>3,2</td>\n",
              "      <td>0.054334</td>\n",
              "      <td>0.042659</td>\n",
              "    </tr>\n",
              "    <tr>\n",
              "      <th>7</th>\n",
              "      <td>4,2</td>\n",
              "      <td>0.020699</td>\n",
              "      <td>0.023519</td>\n",
              "    </tr>\n",
              "    <tr>\n",
              "      <th>8</th>\n",
              "      <td>1,3</td>\n",
              "      <td>0.087322</td>\n",
              "      <td>0.094138</td>\n",
              "    </tr>\n",
              "    <tr>\n",
              "      <th>9</th>\n",
              "      <td>2,3</td>\n",
              "      <td>0.172057</td>\n",
              "      <td>0.161164</td>\n",
              "    </tr>\n",
              "    <tr>\n",
              "      <th>10</th>\n",
              "      <td>3,3</td>\n",
              "      <td>0.086675</td>\n",
              "      <td>0.085603</td>\n",
              "    </tr>\n",
              "    <tr>\n",
              "      <th>11</th>\n",
              "      <td>4,3</td>\n",
              "      <td>0.042044</td>\n",
              "      <td>0.047194</td>\n",
              "    </tr>\n",
              "  </tbody>\n",
              "</table>\n",
              "</div>\n",
              "      <button class=\"colab-df-convert\" onclick=\"convertToInteractive('df-487cf207-6b00-49ad-8130-c620e2ea266e')\"\n",
              "              title=\"Convert this dataframe to an interactive table.\"\n",
              "              style=\"display:none;\">\n",
              "        \n",
              "  <svg xmlns=\"http://www.w3.org/2000/svg\" height=\"24px\"viewBox=\"0 0 24 24\"\n",
              "       width=\"24px\">\n",
              "    <path d=\"M0 0h24v24H0V0z\" fill=\"none\"/>\n",
              "    <path d=\"M18.56 5.44l.94 2.06.94-2.06 2.06-.94-2.06-.94-.94-2.06-.94 2.06-2.06.94zm-11 1L8.5 8.5l.94-2.06 2.06-.94-2.06-.94L8.5 2.5l-.94 2.06-2.06.94zm10 10l.94 2.06.94-2.06 2.06-.94-2.06-.94-.94-2.06-.94 2.06-2.06.94z\"/><path d=\"M17.41 7.96l-1.37-1.37c-.4-.4-.92-.59-1.43-.59-.52 0-1.04.2-1.43.59L10.3 9.45l-7.72 7.72c-.78.78-.78 2.05 0 2.83L4 21.41c.39.39.9.59 1.41.59.51 0 1.02-.2 1.41-.59l7.78-7.78 2.81-2.81c.8-.78.8-2.07 0-2.86zM5.41 20L4 18.59l7.72-7.72 1.47 1.35L5.41 20z\"/>\n",
              "  </svg>\n",
              "      </button>\n",
              "      \n",
              "  <style>\n",
              "    .colab-df-container {\n",
              "      display:flex;\n",
              "      flex-wrap:wrap;\n",
              "      gap: 12px;\n",
              "    }\n",
              "\n",
              "    .colab-df-convert {\n",
              "      background-color: #E8F0FE;\n",
              "      border: none;\n",
              "      border-radius: 50%;\n",
              "      cursor: pointer;\n",
              "      display: none;\n",
              "      fill: #1967D2;\n",
              "      height: 32px;\n",
              "      padding: 0 0 0 0;\n",
              "      width: 32px;\n",
              "    }\n",
              "\n",
              "    .colab-df-convert:hover {\n",
              "      background-color: #E2EBFA;\n",
              "      box-shadow: 0px 1px 2px rgba(60, 64, 67, 0.3), 0px 1px 3px 1px rgba(60, 64, 67, 0.15);\n",
              "      fill: #174EA6;\n",
              "    }\n",
              "\n",
              "    [theme=dark] .colab-df-convert {\n",
              "      background-color: #3B4455;\n",
              "      fill: #D2E3FC;\n",
              "    }\n",
              "\n",
              "    [theme=dark] .colab-df-convert:hover {\n",
              "      background-color: #434B5C;\n",
              "      box-shadow: 0px 1px 3px 1px rgba(0, 0, 0, 0.15);\n",
              "      filter: drop-shadow(0px 1px 2px rgba(0, 0, 0, 0.3));\n",
              "      fill: #FFFFFF;\n",
              "    }\n",
              "  </style>\n",
              "\n",
              "      <script>\n",
              "        const buttonEl =\n",
              "          document.querySelector('#df-487cf207-6b00-49ad-8130-c620e2ea266e button.colab-df-convert');\n",
              "        buttonEl.style.display =\n",
              "          google.colab.kernel.accessAllowed ? 'block' : 'none';\n",
              "\n",
              "        async function convertToInteractive(key) {\n",
              "          const element = document.querySelector('#df-487cf207-6b00-49ad-8130-c620e2ea266e');\n",
              "          const dataTable =\n",
              "            await google.colab.kernel.invokeFunction('convertToInteractive',\n",
              "                                                     [key], {});\n",
              "          if (!dataTable) return;\n",
              "\n",
              "          const docLinkHtml = 'Like what you see? Visit the ' +\n",
              "            '<a target=\"_blank\" href=https://colab.research.google.com/notebooks/data_table.ipynb>data table notebook</a>'\n",
              "            + ' to learn more about interactive tables.';\n",
              "          element.innerHTML = '';\n",
              "          dataTable['output_type'] = 'display_data';\n",
              "          await google.colab.output.renderOutput(dataTable, element);\n",
              "          const docLink = document.createElement('div');\n",
              "          docLink.innerHTML = docLinkHtml;\n",
              "          element.appendChild(docLink);\n",
              "        }\n",
              "      </script>\n",
              "    </div>\n",
              "  </div>\n",
              "  "
            ]
          },
          "metadata": {},
          "execution_count": 9
        }
      ],
      "source": [
        "pop_probs = pd.DataFrame({\"X,Y\":xy_labs,\"p(x,y)\":np.array(tabela14_lambda)/total, \"p(x)*p(y)\":[marginal_x[j]*marginal_y[i] for i in range(3) for j in range(4)]})\n",
        "pop_probs"
      ]
    },
    {
      "cell_type": "markdown",
      "source": [
        "| Y\\X | Consumidor (X=1)      | Produtor (X=2)        | Escola (X=3)       | Outras (X=4) |\n",
        "|-----|---------|----------|---------|---|\n",
        "| São Paulo (Y=1)  |   214 (157)   |   237 (269)      |   78 (143)     | 119 (79) | \n",
        "| Paraná (Y=2)  |   51 (73)    |  102 (124)    |  126 (67)   | 22 (37) |\n",
        "| Rio G. Sul (Y=3)|  111 (146)    |    304 (250)      | 139 (133)     | 48 (73) |\n"
      ],
      "metadata": {
        "id": "TutCyNfSt4M5"
      },
      "id": "TutCyNfSt4M5"
    },
    {
      "cell_type": "markdown",
      "id": "5a6d4a09",
      "metadata": {
        "id": "5a6d4a09"
      },
      "source": [
        "Pela Informação Mútua: $$I(X,Y) = D(p(x,y)||p(x)p(y)) = \\sum_{x,y}p(x,y)log\\frac{p(x,y)}{p(x)p(y)}$$"
      ]
    },
    {
      "cell_type": "code",
      "execution_count": null,
      "id": "ae2fc5eb",
      "metadata": {
        "id": "ae2fc5eb",
        "outputId": "a5b0c8de-60dd-452f-eff5-2a42850bfa80",
        "colab": {
          "base_uri": "https://localhost:8080/"
        }
      },
      "outputs": [
        {
          "output_type": "stream",
          "name": "stdout",
          "text": [
            "I(X,Y) = 0.0073581504728539105\n"
          ]
        }
      ],
      "source": [
        "mutual_information = sum(pop_probs[\"p(x,y)\"]*np.array([math.log(ele,2) if ele!=0 else 0 for ele in pop_probs[\"p(x,y)\"]/pop_probs[\"p(x)*p(y)\"]]))\n",
        "print(f\"I(X,Y) = {mutual_information}\")"
      ]
    },
    {
      "cell_type": "markdown",
      "id": "67017207",
      "metadata": {
        "id": "67017207"
      },
      "source": [
        "Procede-se então com a geração de K amostras de tamanho N=1546 (total observado estipulado), porém com probabilidades conjuntas baseadas no cenário de independência ($H_0$), ou seja, $p(x,y) = p(x)p(y)$, resultando em K Informações Mútuas estimadas calculadas para cada uma das amostras."
      ]
    },
    {
      "cell_type": "code",
      "execution_count": null,
      "id": "86340872",
      "metadata": {
        "id": "86340872"
      },
      "outputs": [],
      "source": [
        "K = int(1e4)\n",
        "N = total\n",
        "\n",
        "joint_prob_independence = pop_probs[\"p(x)*p(y)\"]\n",
        "\n",
        "obs_mutual_information_list = list()\n",
        "\n",
        "for i in range(K):\n",
        "    sample_temp = pd.DataFrame({\"X,Y\": np.random.choice(a = xy_labs, size = N, replace = True, p = joint_prob_independence).tolist()})[\"X,Y\"].value_counts()\n",
        "    sample_temp = pd.DataFrame({'X,Y': sample_temp.index, 'count': sample_temp.values})\n",
        "    sample_temp[['X','Y']] = sample_temp[\"X,Y\"].str.split(\",\", expand=True)\n",
        "    sample_temp['p(x,y)'] = sample_temp['count']/N\n",
        "\n",
        "    obs_props_x_temp = {str(i):sum(sample_temp[sample_temp['X']==str(i)]['count'])/N for i in range(1,5)}\n",
        "    obs_props_y_temp = {str(i):sum(sample_temp[sample_temp['Y']==str(i)]['count'])/N for i in range(1,5)}\n",
        "\n",
        "    sample_temp['p(x)*p(y)'] = [obs_props_x_temp[x]*obs_props_y_temp[y] for x,y in zip(sample_temp['X'],sample_temp['Y'])]\n",
        "\n",
        "    obs_mutual_information_temp = sum(sample_temp[\"p(x,y)\"]*np.array([math.log(ele,2) if ele!=0 else 0 for ele in sample_temp[\"p(x,y)\"]/sample_temp[\"p(x)*p(y)\"]]))\n",
        "    obs_mutual_information_list.append(obs_mutual_information_temp)"
      ]
    },
    {
      "cell_type": "code",
      "execution_count": null,
      "id": "297461be",
      "metadata": {
        "id": "297461be",
        "outputId": "d17f3b39-f9c7-4181-8feb-bfb4a1d51479",
        "colab": {
          "base_uri": "https://localhost:8080/",
          "height": 497
        }
      },
      "outputs": [
        {
          "output_type": "display_data",
          "data": {
            "text/plain": [
              "<Figure size 640x480 with 1 Axes>"
            ],
            "image/png": "[encoded data removed]"
          },
          "metadata": {}
        }
      ],
      "source": [
        "sns.histplot(obs_mutual_information_list, kde = True, stat= 'probability')\n",
        "plt.xlabel(\"Mutual Information\")\n",
        "plt.ylabel(\"Frequency\")\n",
        "plt.title(\"Mutual Information Distribution \")\n",
        "plt.suptitle(f\"K={K} samples with N={N} observations each one\", fontsize=8)\n",
        "plt.show()"
      ]
    },
    {
      "cell_type": "markdown",
      "id": "76ebe06a",
      "metadata": {
        "id": "76ebe06a"
      },
      "source": [
        "Tem-se acima o gráfico da distribuição dos valores calculados da Informação Mútua das K amostras sendo cada uma com N=1546 observações sob o cenário de $H_0$, ou seja, com independência entre X e Y. Portanto, pode-se calcular a Informação Mútua do cenário específico a seguir e identificar qual p-valor apresenta. Se p-valor muito baixo, então tem-se uma amostra rara (considerando $H_0$) e então rejeita-se hipótese de independência."
      ]
    },
    {
      "cell_type": "code",
      "execution_count": null,
      "id": "bfe61f77",
      "metadata": {
        "id": "bfe61f77",
        "outputId": "bae83d89-de89-49ed-df89-0c89bdae4f11",
        "colab": {
          "base_uri": "https://localhost:8080/",
          "height": 426
        }
      },
      "outputs": [
        {
          "output_type": "execute_result",
          "data": {
            "text/plain": [
              "    X  Y  X,Y  count    p(x,y)  p(x)*p(y)\n",
              "0   1  1  1,1    174  0.112549   0.101512\n",
              "1   2  1  2,1    259  0.167529   0.173788\n",
              "2   3  1  3,1    123  0.079560   0.092308\n",
              "3   4  1  4,1     91  0.058862   0.050891\n",
              "4   1  2  1,2     66  0.042691   0.046912\n",
              "5   2  2  2,2    117  0.075679   0.080313\n",
              "6   3  2  3,2     84  0.054334   0.042659\n",
              "7   4  2  4,2     32  0.020699   0.023519\n",
              "8   1  3  1,3    135  0.087322   0.094138\n",
              "9   2  3  2,3    266  0.172057   0.161164\n",
              "10  3  3  3,3    134  0.086675   0.085603\n",
              "11  4  3  4,3     65  0.042044   0.047194"
            ],
            "text/html": [
              "\n",
              "  <div id=\"df-185dee2a-0f16-46bd-baeb-d0c7e5805c22\">\n",
              "    <div class=\"colab-df-container\">\n",
              "      <div>\n",
              "<style scoped>\n",
              "    .dataframe tbody tr th:only-of-type {\n",
              "        vertical-align: middle;\n",
              "    }\n",
              "\n",
              "    .dataframe tbody tr th {\n",
              "        vertical-align: top;\n",
              "    }\n",
              "\n",
              "    .dataframe thead th {\n",
              "        text-align: right;\n",
              "    }\n",
              "</style>\n",
              "<table border=\"1\" class=\"dataframe\">\n",
              "  <thead>\n",
              "    <tr style=\"text-align: right;\">\n",
              "      <th></th>\n",
              "      <th>X</th>\n",
              "      <th>Y</th>\n",
              "      <th>X,Y</th>\n",
              "      <th>count</th>\n",
              "      <th>p(x,y)</th>\n",
              "      <th>p(x)*p(y)</th>\n",
              "    </tr>\n",
              "  </thead>\n",
              "  <tbody>\n",
              "    <tr>\n",
              "      <th>0</th>\n",
              "      <td>1</td>\n",
              "      <td>1</td>\n",
              "      <td>1,1</td>\n",
              "      <td>174</td>\n",
              "      <td>0.112549</td>\n",
              "      <td>0.101512</td>\n",
              "    </tr>\n",
              "    <tr>\n",
              "      <th>1</th>\n",
              "      <td>2</td>\n",
              "      <td>1</td>\n",
              "      <td>2,1</td>\n",
              "      <td>259</td>\n",
              "      <td>0.167529</td>\n",
              "      <td>0.173788</td>\n",
              "    </tr>\n",
              "    <tr>\n",
              "      <th>2</th>\n",
              "      <td>3</td>\n",
              "      <td>1</td>\n",
              "      <td>3,1</td>\n",
              "      <td>123</td>\n",
              "      <td>0.079560</td>\n",
              "      <td>0.092308</td>\n",
              "    </tr>\n",
              "    <tr>\n",
              "      <th>3</th>\n",
              "      <td>4</td>\n",
              "      <td>1</td>\n",
              "      <td>4,1</td>\n",
              "      <td>91</td>\n",
              "      <td>0.058862</td>\n",
              "      <td>0.050891</td>\n",
              "    </tr>\n",
              "    <tr>\n",
              "      <th>4</th>\n",
              "      <td>1</td>\n",
              "      <td>2</td>\n",
              "      <td>1,2</td>\n",
              "      <td>66</td>\n",
              "      <td>0.042691</td>\n",
              "      <td>0.046912</td>\n",
              "    </tr>\n",
              "    <tr>\n",
              "      <th>5</th>\n",
              "      <td>2</td>\n",
              "      <td>2</td>\n",
              "      <td>2,2</td>\n",
              "      <td>117</td>\n",
              "      <td>0.075679</td>\n",
              "      <td>0.080313</td>\n",
              "    </tr>\n",
              "    <tr>\n",
              "      <th>6</th>\n",
              "      <td>3</td>\n",
              "      <td>2</td>\n",
              "      <td>3,2</td>\n",
              "      <td>84</td>\n",
              "      <td>0.054334</td>\n",
              "      <td>0.042659</td>\n",
              "    </tr>\n",
              "    <tr>\n",
              "      <th>7</th>\n",
              "      <td>4</td>\n",
              "      <td>2</td>\n",
              "      <td>4,2</td>\n",
              "      <td>32</td>\n",
              "      <td>0.020699</td>\n",
              "      <td>0.023519</td>\n",
              "    </tr>\n",
              "    <tr>\n",
              "      <th>8</th>\n",
              "      <td>1</td>\n",
              "      <td>3</td>\n",
              "      <td>1,3</td>\n",
              "      <td>135</td>\n",
              "      <td>0.087322</td>\n",
              "      <td>0.094138</td>\n",
              "    </tr>\n",
              "    <tr>\n",
              "      <th>9</th>\n",
              "      <td>2</td>\n",
              "      <td>3</td>\n",
              "      <td>2,3</td>\n",
              "      <td>266</td>\n",
              "      <td>0.172057</td>\n",
              "      <td>0.161164</td>\n",
              "    </tr>\n",
              "    <tr>\n",
              "      <th>10</th>\n",
              "      <td>3</td>\n",
              "      <td>3</td>\n",
              "      <td>3,3</td>\n",
              "      <td>134</td>\n",
              "      <td>0.086675</td>\n",
              "      <td>0.085603</td>\n",
              "    </tr>\n",
              "    <tr>\n",
              "      <th>11</th>\n",
              "      <td>4</td>\n",
              "      <td>3</td>\n",
              "      <td>4,3</td>\n",
              "      <td>65</td>\n",
              "      <td>0.042044</td>\n",
              "      <td>0.047194</td>\n",
              "    </tr>\n",
              "  </tbody>\n",
              "</table>\n",
              "</div>\n",
              "      <button class=\"colab-df-convert\" onclick=\"convertToInteractive('df-185dee2a-0f16-46bd-baeb-d0c7e5805c22')\"\n",
              "              title=\"Convert this dataframe to an interactive table.\"\n",
              "              style=\"display:none;\">\n",
              "        \n",
              "  <svg xmlns=\"http://www.w3.org/2000/svg\" height=\"24px\"viewBox=\"0 0 24 24\"\n",
              "       width=\"24px\">\n",
              "    <path d=\"M0 0h24v24H0V0z\" fill=\"none\"/>\n",
              "    <path d=\"M18.56 5.44l.94 2.06.94-2.06 2.06-.94-2.06-.94-.94-2.06-.94 2.06-2.06.94zm-11 1L8.5 8.5l.94-2.06 2.06-.94-2.06-.94L8.5 2.5l-.94 2.06-2.06.94zm10 10l.94 2.06.94-2.06 2.06-.94-2.06-.94-.94-2.06-.94 2.06-2.06.94z\"/><path d=\"M17.41 7.96l-1.37-1.37c-.4-.4-.92-.59-1.43-.59-.52 0-1.04.2-1.43.59L10.3 9.45l-7.72 7.72c-.78.78-.78 2.05 0 2.83L4 21.41c.39.39.9.59 1.41.59.51 0 1.02-.2 1.41-.59l7.78-7.78 2.81-2.81c.8-.78.8-2.07 0-2.86zM5.41 20L4 18.59l7.72-7.72 1.47 1.35L5.41 20z\"/>\n",
              "  </svg>\n",
              "      </button>\n",
              "      \n",
              "  <style>\n",
              "    .colab-df-container {\n",
              "      display:flex;\n",
              "      flex-wrap:wrap;\n",
              "      gap: 12px;\n",
              "    }\n",
              "\n",
              "    .colab-df-convert {\n",
              "      background-color: #E8F0FE;\n",
              "      border: none;\n",
              "      border-radius: 50%;\n",
              "      cursor: pointer;\n",
              "      display: none;\n",
              "      fill: #1967D2;\n",
              "      height: 32px;\n",
              "      padding: 0 0 0 0;\n",
              "      width: 32px;\n",
              "    }\n",
              "\n",
              "    .colab-df-convert:hover {\n",
              "      background-color: #E2EBFA;\n",
              "      box-shadow: 0px 1px 2px rgba(60, 64, 67, 0.3), 0px 1px 3px 1px rgba(60, 64, 67, 0.15);\n",
              "      fill: #174EA6;\n",
              "    }\n",
              "\n",
              "    [theme=dark] .colab-df-convert {\n",
              "      background-color: #3B4455;\n",
              "      fill: #D2E3FC;\n",
              "    }\n",
              "\n",
              "    [theme=dark] .colab-df-convert:hover {\n",
              "      background-color: #434B5C;\n",
              "      box-shadow: 0px 1px 3px 1px rgba(0, 0, 0, 0.15);\n",
              "      filter: drop-shadow(0px 1px 2px rgba(0, 0, 0, 0.3));\n",
              "      fill: #FFFFFF;\n",
              "    }\n",
              "  </style>\n",
              "\n",
              "      <script>\n",
              "        const buttonEl =\n",
              "          document.querySelector('#df-185dee2a-0f16-46bd-baeb-d0c7e5805c22 button.colab-df-convert');\n",
              "        buttonEl.style.display =\n",
              "          google.colab.kernel.accessAllowed ? 'block' : 'none';\n",
              "\n",
              "        async function convertToInteractive(key) {\n",
              "          const element = document.querySelector('#df-185dee2a-0f16-46bd-baeb-d0c7e5805c22');\n",
              "          const dataTable =\n",
              "            await google.colab.kernel.invokeFunction('convertToInteractive',\n",
              "                                                     [key], {});\n",
              "          if (!dataTable) return;\n",
              "\n",
              "          const docLinkHtml = 'Like what you see? Visit the ' +\n",
              "            '<a target=\"_blank\" href=https://colab.research.google.com/notebooks/data_table.ipynb>data table notebook</a>'\n",
              "            + ' to learn more about interactive tables.';\n",
              "          element.innerHTML = '';\n",
              "          dataTable['output_type'] = 'display_data';\n",
              "          await google.colab.output.renderOutput(dataTable, element);\n",
              "          const docLink = document.createElement('div');\n",
              "          docLink.innerHTML = docLinkHtml;\n",
              "          element.appendChild(docLink);\n",
              "        }\n",
              "      </script>\n",
              "    </div>\n",
              "  </div>\n",
              "  "
            ]
          },
          "metadata": {},
          "execution_count": 18
        }
      ],
      "source": [
        "sample = pd.DataFrame({\"X,Y\":pop_probs[\"X,Y\"],\"count\": tabela14_lambda})\n",
        "sample[['X','Y']] = sample[\"X,Y\"].str.split(\",\", expand=True)\n",
        "sample['p(x,y)'] = sample['count']/N\n",
        "\n",
        "obs_props_x = {str(i):sum(sample[sample['X']==str(i)]['count'])/N for i in range(1,5)}\n",
        "obs_props_y = {str(i):sum(sample[sample['Y']==str(i)]['count'])/N for i in range(1,4)}\n",
        "\n",
        "sample['p(x)*p(y)'] = [obs_props_x[x]*obs_props_y[y] for x,y in zip(sample['X'],sample['Y'])]\n",
        "\n",
        "# Show the sample and respective proportions observed \n",
        "sample[['X','Y','X,Y','count','p(x,y)','p(x)*p(y)']]"
      ]
    },
    {
      "cell_type": "code",
      "execution_count": null,
      "id": "621dc87d",
      "metadata": {
        "id": "621dc87d",
        "outputId": "f6bc207d-8afd-4143-af1e-634f1fb34526",
        "colab": {
          "base_uri": "https://localhost:8080/"
        }
      },
      "outputs": [
        {
          "output_type": "stream",
          "name": "stdout",
          "text": [
            "I(X,Y) observed: 0.0073581504728539105\n",
            "\n",
            "95th percentile for I(X,Y) distribution: 0.005862505609777752\n"
          ]
        }
      ],
      "source": [
        "obs_mutual_information = sum(sample[\"p(x,y)\"]*np.array([math.log(ele,2) if ele!=0 else 0 for ele in sample[\"p(x,y)\"]/sample[\"p(x)*p(y)\"]]))\n",
        "# Mutual information observed in the sample\n",
        "print(f\"I(X,Y) observed: {obs_mutual_information}\\n\")\n",
        "\n",
        "percentile = 95\n",
        "percentile_mutual_information = np.percentile(obs_mutual_information_list, percentile)\n",
        "print(f\"{percentile}th percentile for I(X,Y) distribution: {percentile_mutual_information}\")"
      ]
    },
    {
      "cell_type": "code",
      "execution_count": null,
      "id": "9cc4c586",
      "metadata": {
        "id": "9cc4c586",
        "outputId": "1fcd600e-799a-4267-93e6-139c29283469",
        "colab": {
          "base_uri": "https://localhost:8080/",
          "height": 497
        }
      },
      "outputs": [
        {
          "output_type": "display_data",
          "data": {
            "text/plain": [
              "<Figure size 640x480 with 1 Axes>"
            ],
            "image/png": "[encoded data removed]"
          },
          "metadata": {}
        }
      ],
      "source": [
        "sns.histplot(obs_mutual_information_list, kde = True, stat= 'probability')\n",
        "plt.xlabel(\"Mutual Information\")\n",
        "plt.ylabel(\"Frequency\")\n",
        "plt.title(\"Mutual Information Distribution \")\n",
        "plt.suptitle(f\"K={K} samples with N={N} observations each one\", fontsize=8)\n",
        "\n",
        "# Adding the mutual information observed (red) and percentile determined (gray)\n",
        "plt.axvline(x=obs_mutual_information, color='red', linestyle='solid')\n",
        "plt.axvline(x=percentile_mutual_information, color='grey', linestyle='dashed', label=f\"{percentile}th percentile\")\n",
        "\n",
        "plt.axvspan(xmin=percentile_mutual_information, xmax=np.array(obs_mutual_information_list).max(), color='lightgrey', alpha=0.5)\n",
        "\n",
        "plt.xlim(np.array(obs_mutual_information_list).min(),np.array(obs_mutual_information_list).max())\n",
        "\n",
        "ymax = plt.gca().get_ylim()[1]\n",
        "plt.annotate('Observed', xy=(obs_mutual_information, ymax/2), xytext=(obs_mutual_information, ymax/2+ymax/15), arrowprops=dict(arrowstyle='->', connectionstyle='arc3,rad=-0.5', color='red'), textcoords='data', color='red', fontsize=8, ha=\"left\")\n",
        "\n",
        "plt.legend()\n",
        "\n",
        "plt.show()"
      ]
    },
    {
      "cell_type": "markdown",
      "id": "3435f78f",
      "metadata": {
        "id": "3435f78f"
      },
      "source": [
        "Nota-se portanto que com valor da Informação Mútua da amostra especificada acima do percentil mostrado, infere-se que há indícios para rejeitar hipótese de independência entre as variáveis. Observa-se também que a distribuição é assimétrica à direita, podendo considerar $\\text{p-valor} > 1-\\text{percentil calculado}$. "
      ]
    },
    {
      "cell_type": "code",
      "execution_count": null,
      "id": "c8ae949b",
      "metadata": {
        "id": "c8ae949b",
        "outputId": "ecd4b1b0-4d23-456f-c8d3-8fff6a24fbbf",
        "colab": {
          "base_uri": "https://localhost:8080/"
        }
      },
      "outputs": [
        {
          "output_type": "stream",
          "name": "stdout",
          "text": [
            "p-value: 1.37% <= 5.0%\n",
            "---> Reject null hypothesis: X and Y aren't independent with 5.0% of significance\n"
          ]
        }
      ],
      "source": [
        "# -----\n",
        "# Na versão anterior, o erro estava aqui na linha abaixo \n",
        "# p_value = np.quantile(obs_mutual_information_list, (obs_mutual_information - min(obs_mutual_information_list))/(max(obs_mutual_information_list)-min(obs_mutual_information_list)))\n",
        "# -----\n",
        "p_value = (np.array(obs_mutual_information_list) >=  obs_mutual_information).sum()/len(obs_mutual_information_list)\n",
        "print(f\"p-value: {round(p_value*100,2)}%\",end=\"\")\n",
        "alpha=0.05\n",
        "if p_value<=alpha: print(f\" <= {alpha*100}%\\n---> Reject null hypothesis: X and Y aren't independent with {alpha*100}% of significance\")\n",
        "else: print(f' > {alpha*100}%\\n---> NONE evidences to reject null hypothesis: X and Y are independent considering {alpha*100}% of significance')"
      ]
    },
    {
      "cell_type": "markdown",
      "id": "dfdc1da4",
      "metadata": {
        "id": "dfdc1da4"
      },
      "source": [
        "Realiza-se a seguir um teste de independência clássico com a tabela de contigência especificada anteriormente. Para isso, nota-se que a tabela é composta por $r = 3$ linhas e $s = 4$ colunas implicando em um teste sob uma Qui-Quadrado $\\chi^2(\\nu)$ em $H_0$ (independência entre X e Y), onde $\\nu = (r-1)(s-1)$ graus de liberdade, portanto, $6 g.l.$"
      ]
    },
    {
      "cell_type": "code",
      "execution_count": null,
      "id": "11034b22",
      "metadata": {
        "id": "11034b22",
        "outputId": "34ef3ab0-3fa3-4109-e9bd-5c9c3a7673d0",
        "colab": {
          "base_uri": "https://localhost:8080/"
        }
      },
      "outputs": [
        {
          "output_type": "stream",
          "name": "stdout",
          "text": [
            "The value of chi-square statistic of the test observed was: 16.109438836875455\n"
          ]
        }
      ],
      "source": [
        "# Expected count assuming independence between X and Y\n",
        "sample['count_expected'] = N*sample['p(x)*p(y)']\n",
        "\n",
        "# To get statistic of the test, sum the elements for each entry by (count_observed - count_expected)^2/count_expected\n",
        "test_statistic = sum((sample['count'] - sample['count_expected'])**2/sample['count_expected'])\n",
        "print(f\"The value of chi-square statistic of the test observed was: {test_statistic}\")"
      ]
    },
    {
      "cell_type": "code",
      "execution_count": null,
      "id": "20e55798",
      "metadata": {
        "id": "20e55798",
        "outputId": "25c7327e-2368-4728-c3be-e7e44e2093c7",
        "colab": {
          "base_uri": "https://localhost:8080/",
          "height": 472
        }
      },
      "outputs": [
        {
          "output_type": "display_data",
          "data": {
            "text/plain": [
              "<Figure size 640x480 with 1 Axes>"
            ],
            "image/png": "[encoded data removed]"
          },
          "metadata": {}
        }
      ],
      "source": [
        "# Plot density of Chi-Square distribution with 6 degrees of freedom\n",
        "degrees_freedom = 6\n",
        "x = np.linspace(chi2.ppf(0.01, degrees_freedom), chi2.ppf(0.99, degrees_freedom), 100)\n",
        "chi2_dist = chi2(degrees_freedom)\n",
        "plt.plot(x, chi2_dist.pdf(x), '-', lw=3, alpha=0.6, color=\"grey\")\n",
        "plt.xlabel('x')\n",
        "plt.ylabel('Probability density')\n",
        "plt.title(f'Chi-square distribution with {degrees_freedom} degrees of freedom')\n",
        "\n",
        "plt.fill_between(x, 0, chi2_dist.pdf(x), where=(x >= chi2.ppf(percentile/100, degrees_freedom)), alpha=0.5, color=\"red\", label=f\"Critical Region with $\\\\alpha={round(1-percentile/100,2)}$\")\n",
        "plt.fill_between(x, 0, chi2_dist.pdf(x), where=(x < chi2.ppf(percentile/100, degrees_freedom)), alpha=0.05, color=\"grey\")\n",
        "\n",
        "plt.axvline(test_statistic, color=\"black\",linestyle='dashed')\n",
        "ymax = plt.gca().get_ylim()[1]\n",
        "plt.annotate('Observed', xy=(test_statistic, ymax/2), xytext=(test_statistic, ymax/2+ymax/15), arrowprops=dict(arrowstyle='->', connectionstyle='arc3,rad=0.5', color='black'), textcoords='data', color='black', fontsize=8, ha=\"right\")\n",
        "\n",
        "plt.legend()\n",
        "\n",
        "plt.xlim(min(x), max(x))\n",
        "plt.ylim(0)\n",
        "\n",
        "plt.show()"
      ]
    },
    {
      "cell_type": "code",
      "execution_count": null,
      "id": "6b9bbf8f",
      "metadata": {
        "id": "6b9bbf8f",
        "outputId": "a68db8a2-cf68-46e6-c014-6bc9d160b81b",
        "colab": {
          "base_uri": "https://localhost:8080/"
        }
      },
      "outputs": [
        {
          "output_type": "stream",
          "name": "stdout",
          "text": [
            "p-value: 1.32% <= 5.0%\n",
            "---> Reject null hypothesis: X and Y aren't independent with 5.0% of significance\n"
          ]
        }
      ],
      "source": [
        "# For the classic independence test\n",
        "p_value_classic = 1 - chi2.cdf(test_statistic, degrees_freedom)\n",
        "print(f\"p-value: {round(p_value_classic*100,2)}%\",end=\"\")\n",
        "if p_value_classic<=alpha: print(f\" <= {alpha*100}%\\n---> Reject null hypothesis: X and Y aren't independent with {alpha*100}% of significance\")\n",
        "else: print(f' > {alpha*100}%\\n---> NONE evidences to reject null hypothesis: X and Y are independent considering {alpha*100}% of significance')"
      ]
    },
    {
      "cell_type": "markdown",
      "id": "cb3e4ebf",
      "metadata": {
        "id": "cb3e4ebf"
      },
      "source": [
        "Portanto, infere-se também pelo teste clássico de independência que não rejeita-se hipótese nula de variáveis não dependentes com nível de significância de 5%, conforme esperado."
      ]
    }
  ],
  "metadata": {
    "kernelspec": {
      "display_name": "Python 3 (ipykernel)",
      "language": "python",
      "name": "python3"
    },
    "language_info": {
      "codemirror_mode": {
        "name": "ipython",
        "version": 3
      },
      "file_extension": ".py",
      "mimetype": "text/x-python",
      "name": "python",
      "nbconvert_exporter": "python",
      "pygments_lexer": "ipython3",
      "version": "3.9.7"
    },
    "colab": {
      "provenance": []
    }
  },
  "nbformat": 4,
  "nbformat_minor": 5
}